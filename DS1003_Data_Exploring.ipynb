{
 "cells": [
  {
   "cell_type": "code",
   "execution_count": 3,
   "metadata": {
    "collapsed": true
   },
   "outputs": [],
   "source": [
    "import numpy as np \n",
    "import pandas as pd \n",
    "import matplotlib.pyplot as plt\n",
    "import os "
   ]
  },
  {
   "cell_type": "code",
   "execution_count": 6,
   "metadata": {
    "collapsed": false
   },
   "outputs": [],
   "source": [
    "os.chdir('/Users/Sean/Desktop/DS1003_Final_Project/data')"
   ]
  },
  {
   "cell_type": "code",
   "execution_count": 8,
   "metadata": {
    "collapsed": false
   },
   "outputs": [],
   "source": [
    "Review_all = pd.read_csv('reviews_all.csv')\n",
    "Reviews = pd.read_csv('reviews.csv')\n",
    "listings = pd.read_csv('listings.csv')\n",
    "listings_all = pd.read_csv('listings_all.csv')"
   ]
  },
  {
   "cell_type": "code",
   "execution_count": 18,
   "metadata": {
    "collapsed": false
   },
   "outputs": [
    {
     "data": {
      "text/html": [
       "<div>\n",
       "<table border=\"1\" class=\"dataframe\">\n",
       "  <thead>\n",
       "    <tr style=\"text-align: right;\">\n",
       "      <th></th>\n",
       "      <th>listing_id</th>\n",
       "      <th>id</th>\n",
       "      <th>date</th>\n",
       "      <th>reviewer_id</th>\n",
       "      <th>reviewer_name</th>\n",
       "      <th>comments</th>\n",
       "    </tr>\n",
       "  </thead>\n",
       "  <tbody>\n",
       "    <tr>\n",
       "      <th>0</th>\n",
       "      <td>15390942</td>\n",
       "      <td>107819513</td>\n",
       "      <td>2016-10-12</td>\n",
       "      <td>44212740</td>\n",
       "      <td>Martha</td>\n",
       "      <td>Jorge was amazing, so kind! we literally loved...</td>\n",
       "    </tr>\n",
       "  </tbody>\n",
       "</table>\n",
       "</div>"
      ],
      "text/plain": [
       "   listing_id         id        date  reviewer_id reviewer_name  \\\n",
       "0    15390942  107819513  2016-10-12     44212740        Martha   \n",
       "\n",
       "                                            comments  \n",
       "0  Jorge was amazing, so kind! we literally loved...  "
      ]
     },
     "execution_count": 18,
     "metadata": {},
     "output_type": "execute_result"
    }
   ],
   "source": [
    "Review_all.head(1)"
   ]
  },
  {
   "cell_type": "code",
   "execution_count": 10,
   "metadata": {
    "collapsed": false
   },
   "outputs": [
    {
     "data": {
      "text/html": [
       "<div>\n",
       "<table border=\"1\" class=\"dataframe\">\n",
       "  <thead>\n",
       "    <tr style=\"text-align: right;\">\n",
       "      <th></th>\n",
       "      <th>id</th>\n",
       "      <th>listing_url</th>\n",
       "      <th>scrape_id</th>\n",
       "      <th>last_scraped</th>\n",
       "      <th>name</th>\n",
       "      <th>summary</th>\n",
       "      <th>space</th>\n",
       "      <th>description</th>\n",
       "      <th>experiences_offered</th>\n",
       "      <th>neighborhood_overview</th>\n",
       "      <th>...</th>\n",
       "      <th>review_scores_value</th>\n",
       "      <th>requires_license</th>\n",
       "      <th>license</th>\n",
       "      <th>jurisdiction_names</th>\n",
       "      <th>instant_bookable</th>\n",
       "      <th>cancellation_policy</th>\n",
       "      <th>require_guest_profile_picture</th>\n",
       "      <th>require_guest_phone_verification</th>\n",
       "      <th>calculated_host_listings_count</th>\n",
       "      <th>reviews_per_month</th>\n",
       "    </tr>\n",
       "  </thead>\n",
       "  <tbody>\n",
       "    <tr>\n",
       "      <th>0</th>\n",
       "      <td>685006</td>\n",
       "      <td>https://www.airbnb.com/rooms/685006</td>\n",
       "      <td>20161203092247</td>\n",
       "      <td>2016-12-04</td>\n",
       "      <td>Best Studio on Prospect Park</td>\n",
       "      <td>Perfect studio for couples or individuals look...</td>\n",
       "      <td>THE SPACE: The apartment is a good sized studi...</td>\n",
       "      <td>Perfect studio for couples or individuals look...</td>\n",
       "      <td>none</td>\n",
       "      <td>The apartment is right across the street from ...</td>\n",
       "      <td>...</td>\n",
       "      <td>9.0</td>\n",
       "      <td>f</td>\n",
       "      <td>NaN</td>\n",
       "      <td>NaN</td>\n",
       "      <td>f</td>\n",
       "      <td>strict</td>\n",
       "      <td>f</td>\n",
       "      <td>f</td>\n",
       "      <td>1</td>\n",
       "      <td>2.87</td>\n",
       "    </tr>\n",
       "  </tbody>\n",
       "</table>\n",
       "<p>1 rows × 95 columns</p>\n",
       "</div>"
      ],
      "text/plain": [
       "       id                          listing_url       scrape_id last_scraped  \\\n",
       "0  685006  https://www.airbnb.com/rooms/685006  20161203092247   2016-12-04   \n",
       "\n",
       "                           name  \\\n",
       "0  Best Studio on Prospect Park   \n",
       "\n",
       "                                             summary  \\\n",
       "0  Perfect studio for couples or individuals look...   \n",
       "\n",
       "                                               space  \\\n",
       "0  THE SPACE: The apartment is a good sized studi...   \n",
       "\n",
       "                                         description experiences_offered  \\\n",
       "0  Perfect studio for couples or individuals look...                none   \n",
       "\n",
       "                               neighborhood_overview        ...          \\\n",
       "0  The apartment is right across the street from ...        ...           \n",
       "\n",
       "  review_scores_value requires_license license jurisdiction_names  \\\n",
       "0                 9.0                f     NaN                NaN   \n",
       "\n",
       "  instant_bookable cancellation_policy require_guest_profile_picture  \\\n",
       "0                f              strict                             f   \n",
       "\n",
       "  require_guest_phone_verification calculated_host_listings_count  \\\n",
       "0                                f                              1   \n",
       "\n",
       "   reviews_per_month  \n",
       "0               2.87  \n",
       "\n",
       "[1 rows x 95 columns]"
      ]
     },
     "execution_count": 10,
     "metadata": {},
     "output_type": "execute_result"
    }
   ],
   "source": [
    "listings_all.head(1)"
   ]
  },
  {
   "cell_type": "code",
   "execution_count": 12,
   "metadata": {
    "collapsed": false
   },
   "outputs": [
    {
     "data": {
      "text/plain": [
       "['id',\n",
       " 'listing_url',\n",
       " 'scrape_id',\n",
       " 'last_scraped',\n",
       " 'name',\n",
       " 'summary',\n",
       " 'space',\n",
       " 'description',\n",
       " 'experiences_offered',\n",
       " 'neighborhood_overview',\n",
       " 'notes',\n",
       " 'transit',\n",
       " 'access',\n",
       " 'interaction',\n",
       " 'house_rules',\n",
       " 'thumbnail_url',\n",
       " 'medium_url',\n",
       " 'picture_url',\n",
       " 'xl_picture_url',\n",
       " 'host_id',\n",
       " 'host_url',\n",
       " 'host_name',\n",
       " 'host_since',\n",
       " 'host_location',\n",
       " 'host_about',\n",
       " 'host_response_time',\n",
       " 'host_response_rate',\n",
       " 'host_acceptance_rate',\n",
       " 'host_is_superhost',\n",
       " 'host_thumbnail_url',\n",
       " 'host_picture_url',\n",
       " 'host_neighbourhood',\n",
       " 'host_listings_count',\n",
       " 'host_total_listings_count',\n",
       " 'host_verifications',\n",
       " 'host_has_profile_pic',\n",
       " 'host_identity_verified',\n",
       " 'street',\n",
       " 'neighbourhood',\n",
       " 'neighbourhood_cleansed',\n",
       " 'neighbourhood_group_cleansed',\n",
       " 'city',\n",
       " 'state',\n",
       " 'zipcode',\n",
       " 'market',\n",
       " 'smart_location',\n",
       " 'country_code',\n",
       " 'country',\n",
       " 'latitude',\n",
       " 'longitude',\n",
       " 'is_location_exact',\n",
       " 'property_type',\n",
       " 'room_type',\n",
       " 'accommodates',\n",
       " 'bathrooms',\n",
       " 'bedrooms',\n",
       " 'beds',\n",
       " 'bed_type',\n",
       " 'amenities',\n",
       " 'square_feet',\n",
       " 'price',\n",
       " 'weekly_price',\n",
       " 'monthly_price',\n",
       " 'security_deposit',\n",
       " 'cleaning_fee',\n",
       " 'guests_included',\n",
       " 'extra_people',\n",
       " 'minimum_nights',\n",
       " 'maximum_nights',\n",
       " 'calendar_updated',\n",
       " 'has_availability',\n",
       " 'availability_30',\n",
       " 'availability_60',\n",
       " 'availability_90',\n",
       " 'availability_365',\n",
       " 'calendar_last_scraped',\n",
       " 'number_of_reviews',\n",
       " 'first_review',\n",
       " 'last_review',\n",
       " 'review_scores_rating',\n",
       " 'review_scores_accuracy',\n",
       " 'review_scores_cleanliness',\n",
       " 'review_scores_checkin',\n",
       " 'review_scores_communication',\n",
       " 'review_scores_location',\n",
       " 'review_scores_value',\n",
       " 'requires_license',\n",
       " 'license',\n",
       " 'jurisdiction_names',\n",
       " 'instant_bookable',\n",
       " 'cancellation_policy',\n",
       " 'require_guest_profile_picture',\n",
       " 'require_guest_phone_verification',\n",
       " 'calculated_host_listings_count',\n",
       " 'reviews_per_month']"
      ]
     },
     "execution_count": 12,
     "metadata": {},
     "output_type": "execute_result"
    }
   ],
   "source": [
    "list(listings_all.columns.values)"
   ]
  },
  {
   "cell_type": "code",
   "execution_count": 14,
   "metadata": {
    "collapsed": false
   },
   "outputs": [
    {
     "data": {
      "text/plain": [
       "(40227, 95)"
      ]
     },
     "execution_count": 14,
     "metadata": {},
     "output_type": "execute_result"
    }
   ],
   "source": [
    "listings_all.shape"
   ]
  },
  {
   "cell_type": "code",
   "execution_count": 17,
   "metadata": {
    "collapsed": false
   },
   "outputs": [
    {
     "data": {
      "text/plain": [
       "(614127, 6)"
      ]
     },
     "execution_count": 17,
     "metadata": {},
     "output_type": "execute_result"
    }
   ],
   "source": [
    "Review_all.shape"
   ]
  },
  {
   "cell_type": "code",
   "execution_count": 19,
   "metadata": {
    "collapsed": false
   },
   "outputs": [
    {
     "data": {
      "text/plain": [
       "31150"
      ]
     },
     "execution_count": 19,
     "metadata": {},
     "output_type": "execute_result"
    }
   ],
   "source": [
    "len(np.unique(Review_all['listing_id']))\n"
   ]
  },
  {
   "cell_type": "code",
   "execution_count": 21,
   "metadata": {
    "collapsed": false
   },
   "outputs": [
    {
     "data": {
      "text/plain": [
       "40227"
      ]
     },
     "execution_count": 21,
     "metadata": {},
     "output_type": "execute_result"
    }
   ],
   "source": [
    "len(np.unique(listings_all['id']))"
   ]
  },
  {
   "cell_type": "code",
   "execution_count": 27,
   "metadata": {
    "collapsed": false
   },
   "outputs": [
    {
     "name": "stdout",
     "output_type": "stream",
     "text": [
      "40227\n",
      "95\n",
      "40227\n",
      "53\n",
      "9\n",
      "63\n",
      "67\n"
     ]
    }
   ],
   "source": [
    "data = listings_all.copy()\n",
    "print(len(data))\n",
    "print(len(data.columns))\n",
    "print(len(np.unique(data['id'])))\n",
    "has_null = 0\n",
    "more_than_50_null = 0\n",
    "text_col = 0\n",
    "more_than_30_null_or_text = 0\n",
    "for col in data.columns:\n",
    "    if float(np.sum(pd.isnull(data[col])))/len(data) > 0:\n",
    "        has_null += 1\n",
    "        if float(np.sum(pd.isnull(data[col])))/len(data) > 0.5:\n",
    "            more_than_50_null += 1\n",
    "    if str(data[col].dtype) == \"object\":\n",
    "        text_col +=1\n",
    "    if float(np.sum(pd.isnull(data[col])))/len(data) > 0.3 or str(data[col].dtype) == \"object\":\n",
    "        more_than_30_null_or_text += 1\n",
    "print(has_null)\n",
    "print(more_than_50_null)\n",
    "print(text_col)\n",
    "print(more_than_30_null_or_text)\n"
   ]
  },
  {
   "cell_type": "code",
   "execution_count": 37,
   "metadata": {
    "collapsed": false
   },
   "outputs": [],
   "source": [
    "summary = listings_all.describe()\n",
    "summary = summary.transpose()"
   ]
  },
  {
   "cell_type": "code",
   "execution_count": 38,
   "metadata": {
    "collapsed": false
   },
   "outputs": [
    {
     "data": {
      "text/html": [
       "<div>\n",
       "<table border=\"1\" class=\"dataframe\">\n",
       "  <thead>\n",
       "    <tr style=\"text-align: right;\">\n",
       "      <th></th>\n",
       "      <th>count</th>\n",
       "      <th>mean</th>\n",
       "      <th>std</th>\n",
       "      <th>min</th>\n",
       "      <th>25%</th>\n",
       "      <th>50%</th>\n",
       "      <th>75%</th>\n",
       "      <th>max</th>\n",
       "    </tr>\n",
       "  </thead>\n",
       "  <tbody>\n",
       "    <tr>\n",
       "      <th>id</th>\n",
       "      <td>40227.0</td>\n",
       "      <td>8.837834e+06</td>\n",
       "      <td>5.023219e+06</td>\n",
       "      <td>2.515000e+03</td>\n",
       "      <td>4.549554e+06</td>\n",
       "      <td>9.241956e+06</td>\n",
       "      <td>1.354862e+07</td>\n",
       "      <td>1.622441e+07</td>\n",
       "    </tr>\n",
       "    <tr>\n",
       "      <th>scrape_id</th>\n",
       "      <td>40227.0</td>\n",
       "      <td>2.016120e+13</td>\n",
       "      <td>0.000000e+00</td>\n",
       "      <td>2.016120e+13</td>\n",
       "      <td>2.016120e+13</td>\n",
       "      <td>2.016120e+13</td>\n",
       "      <td>2.016120e+13</td>\n",
       "      <td>2.016120e+13</td>\n",
       "    </tr>\n",
       "  </tbody>\n",
       "</table>\n",
       "</div>"
      ],
      "text/plain": [
       "             count          mean           std           min           25%  \\\n",
       "id         40227.0  8.837834e+06  5.023219e+06  2.515000e+03  4.549554e+06   \n",
       "scrape_id  40227.0  2.016120e+13  0.000000e+00  2.016120e+13  2.016120e+13   \n",
       "\n",
       "                    50%           75%           max  \n",
       "id         9.241956e+06  1.354862e+07  1.622441e+07  \n",
       "scrape_id  2.016120e+13  2.016120e+13  2.016120e+13  "
      ]
     },
     "execution_count": 38,
     "metadata": {},
     "output_type": "execute_result"
    }
   ],
   "source": [
    "summary.head(2)"
   ]
  },
  {
   "cell_type": "code",
   "execution_count": 49,
   "metadata": {
    "collapsed": false
   },
   "outputs": [
    {
     "name": "stdout",
     "output_type": "stream",
     "text": [
      "id --- 40227\n",
      "listing_url --- 40227\n",
      "scrape_id --- 1\n",
      "last_scraped --- 2\n",
      "name --- 39369\n",
      "summary --- 37337\n",
      "space --- 26832\n",
      "description --- 39607\n",
      "experiences_offered --- 1\n",
      "neighborhood_overview --- 21260\n",
      "notes --- 13650\n",
      "transit --- 23056\n",
      "access --- 21065\n",
      "interaction --- 20544\n",
      "house_rules --- 23881\n",
      "thumbnail_url --- 34360\n",
      "medium_url --- 34360\n",
      "picture_url --- 40217\n",
      "xl_picture_url --- 34360\n",
      "host_id --- 33582\n",
      "host_url --- 33582\n",
      "host_name --- 10323\n",
      "host_since --- 2676\n",
      "host_location --- 1155\n",
      "host_about --- 20266\n",
      "host_response_time --- 5\n",
      "host_response_rate --- 83\n",
      "host_acceptance_rate --- 1\n",
      "host_is_superhost --- 3\n",
      "host_thumbnail_url --- 33412\n",
      "host_picture_url --- 33412\n",
      "host_neighbourhood --- 362\n",
      "host_listings_count --- 53\n",
      "host_total_listings_count --- 53\n",
      "host_verifications --- 295\n",
      "host_has_profile_pic --- 3\n",
      "host_identity_verified --- 3\n",
      "street --- 7402\n",
      "neighbourhood --- 200\n",
      "neighbourhood_cleansed --- 212\n",
      "neighbourhood_group_cleansed --- 5\n",
      "city --- 321\n",
      "state --- 11\n",
      "zipcode --- 210\n",
      "market --- 29\n",
      "smart_location --- 330\n",
      "country_code --- 2\n",
      "country --- 2\n",
      "latitude --- 40227\n",
      "longitude --- 40227\n",
      "is_location_exact --- 2\n",
      "property_type --- 24\n",
      "room_type --- 3\n",
      "accommodates --- 16\n",
      "bathrooms --- 16\n",
      "bedrooms --- 11\n",
      "beds --- 16\n",
      "bed_type --- 5\n",
      "amenities --- 33406\n",
      "square_feet --- 129\n",
      "price --- 577\n",
      "weekly_price --- 806\n",
      "monthly_price --- 874\n",
      "security_deposit --- 214\n",
      "cleaning_fee --- 163\n",
      "guests_included --- 17\n",
      "extra_people --- 109\n",
      "minimum_nights --- 63\n",
      "maximum_nights --- 247\n",
      "calendar_updated --- 64\n",
      "has_availability --- 1\n",
      "availability_30 --- 31\n",
      "availability_60 --- 61\n",
      "availability_90 --- 91\n",
      "availability_365 --- 366\n",
      "calendar_last_scraped --- 2\n",
      "number_of_reviews --- 250\n",
      "first_review --- 2145\n",
      "last_review --- 1012\n",
      "review_scores_rating --- 56\n",
      "review_scores_accuracy --- 10\n",
      "review_scores_cleanliness --- 10\n",
      "review_scores_checkin --- 10\n",
      "review_scores_communication --- 10\n",
      "review_scores_location --- 10\n",
      "review_scores_value --- 10\n",
      "requires_license --- 1\n",
      "license --- 1\n",
      "jurisdiction_names --- 5\n",
      "instant_bookable --- 2\n",
      "cancellation_policy --- 6\n",
      "require_guest_profile_picture --- 2\n",
      "require_guest_phone_verification --- 2\n",
      "calculated_host_listings_count --- 21\n",
      "reviews_per_month --- 797\n"
     ]
    }
   ],
   "source": [
    "data = listings_all.copy()\n",
    "\n",
    "for col in data.columns:\n",
    "    print (col, '---', len(listings_all[col].unique()))\n",
    "    "
   ]
  },
  {
   "cell_type": "code",
   "execution_count": null,
   "metadata": {
    "collapsed": false
   },
   "outputs": [],
   "source": []
  },
  {
   "cell_type": "code",
   "execution_count": null,
   "metadata": {
    "collapsed": true
   },
   "outputs": [],
   "source": []
  }
 ],
 "metadata": {
  "kernelspec": {
   "display_name": "Python 3",
   "language": "python",
   "name": "python3"
  },
  "language_info": {
   "codemirror_mode": {
    "name": "ipython",
    "version": 3
   },
   "file_extension": ".py",
   "mimetype": "text/x-python",
   "name": "python",
   "nbconvert_exporter": "python",
   "pygments_lexer": "ipython3",
   "version": "3.5.1"
  }
 },
 "nbformat": 4,
 "nbformat_minor": 0
}
