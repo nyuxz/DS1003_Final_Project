{
 "cells": [
  {
   "cell_type": "code",
   "execution_count": 116,
   "metadata": {
    "collapsed": false
   },
   "outputs": [],
   "source": [
    "import numpy as np\n",
    "import pandas as pd\n",
    "import matplotlib.pyplot as plt\n",
    "from collections import Counter\n",
    "from sklearn.feature_extraction.text import TfidfVectorizer\n",
    "from sklearn.preprocessing import LabelEncoder\n",
    "from sklearn.decomposition import LatentDirichletAllocation\n",
    "from sklearn.model_selection import train_test_split\n",
    "from sklearn.model_selection import GridSearchCV\n",
    "from sklearn.datasets import make_classification\n",
    "from sklearn.ensemble import RandomForestClassifier\n",
    "from sklearn.metrics import accuracy_score\n",
    "import os"
   ]
  },
  {
   "cell_type": "code",
   "execution_count": 117,
   "metadata": {
    "collapsed": true
   },
   "outputs": [],
   "source": [
    "os.chdir('/Users/Sean/Desktop/DS1003_Final_Project/data')"
   ]
  },
  {
   "cell_type": "code",
   "execution_count": 107,
   "metadata": {
    "collapsed": false
   },
   "outputs": [],
   "source": [
    "review = pd.read_csv('reviews_all.csv',encoding = \"ISO-8859-1\")\n",
    "listings = pd.read_csv('listings_all.csv',encoding = \"ISO-8859-1\")"
   ]
  },
  {
   "cell_type": "markdown",
   "metadata": {},
   "source": [
    "### drop na column where missing greater than 50%"
   ]
  },
  {
   "cell_type": "code",
   "execution_count": 108,
   "metadata": {
    "collapsed": true
   },
   "outputs": [],
   "source": [
    "listings_na_cols = listings.columns[pd.isnull(listings).sum()/len(listings) > 0.5].tolist()\n",
    "review_na_cols = review.columns[pd.isnull(review).sum()/len(review) > 0.5].tolist()"
   ]
  },
  {
   "cell_type": "code",
   "execution_count": 109,
   "metadata": {
    "collapsed": false
   },
   "outputs": [
    {
     "data": {
      "text/plain": [
       "['notes',\n",
       " 'host_acceptance_rate',\n",
       " 'square_feet',\n",
       " 'weekly_price',\n",
       " 'monthly_price',\n",
       " 'security_deposit',\n",
       " 'has_availability',\n",
       " 'license',\n",
       " 'jurisdiction_names']"
      ]
     },
     "execution_count": 109,
     "metadata": {},
     "output_type": "execute_result"
    }
   ],
   "source": [
    "listings_na_cols"
   ]
  },
  {
   "cell_type": "code",
   "execution_count": 110,
   "metadata": {
    "collapsed": true
   },
   "outputs": [],
   "source": [
    "listings.drop(listings_na_cols,inplace=True,axis=1)"
   ]
  },
  {
   "cell_type": "code",
   "execution_count": 111,
   "metadata": {
    "collapsed": false
   },
   "outputs": [
    {
     "data": {
      "text/plain": [
       "(40227, 86)"
      ]
     },
     "execution_count": 111,
     "metadata": {},
     "output_type": "execute_result"
    }
   ],
   "source": [
    "listings.shape"
   ]
  },
  {
   "cell_type": "code",
   "execution_count": 8,
   "metadata": {
    "collapsed": true
   },
   "outputs": [],
   "source": [
    "# drop all the \n",
    "# listings = listings.dropna()"
   ]
  },
  {
   "cell_type": "code",
   "execution_count": 113,
   "metadata": {
    "collapsed": false
   },
   "outputs": [
    {
     "data": {
      "text/plain": [
       "Index(['id', 'listing_url', 'scrape_id', 'last_scraped', 'name', 'summary',\n",
       "       'space', 'description', 'experiences_offered', 'neighborhood_overview',\n",
       "       'transit', 'access', 'interaction', 'house_rules', 'thumbnail_url',\n",
       "       'medium_url', 'picture_url', 'xl_picture_url', 'host_id', 'host_url',\n",
       "       'host_name', 'host_since', 'host_location', 'host_about',\n",
       "       'host_response_time', 'host_response_rate', 'host_is_superhost',\n",
       "       'host_thumbnail_url', 'host_picture_url', 'host_neighbourhood',\n",
       "       'host_listings_count', 'host_total_listings_count',\n",
       "       'host_verifications', 'host_has_profile_pic', 'host_identity_verified',\n",
       "       'street', 'neighbourhood', 'neighbourhood_cleansed',\n",
       "       'neighbourhood_group_cleansed', 'city', 'state', 'zipcode', 'market',\n",
       "       'smart_location', 'country_code', 'country', 'latitude', 'longitude',\n",
       "       'is_location_exact', 'property_type', 'room_type', 'accommodates',\n",
       "       'bathrooms', 'bedrooms', 'beds', 'bed_type', 'amenities', 'price',\n",
       "       'cleaning_fee', 'guests_included', 'extra_people', 'minimum_nights',\n",
       "       'maximum_nights', 'calendar_updated', 'availability_30',\n",
       "       'availability_60', 'availability_90', 'availability_365',\n",
       "       'calendar_last_scraped', 'number_of_reviews', 'first_review',\n",
       "       'last_review', 'review_scores_rating', 'review_scores_accuracy',\n",
       "       'review_scores_cleanliness', 'review_scores_checkin',\n",
       "       'review_scores_communication', 'review_scores_location',\n",
       "       'review_scores_value', 'requires_license', 'instant_bookable',\n",
       "       'cancellation_policy', 'require_guest_profile_picture',\n",
       "       'require_guest_phone_verification', 'calculated_host_listings_count',\n",
       "       'reviews_per_month'],\n",
       "      dtype='object')"
      ]
     },
     "execution_count": 113,
     "metadata": {},
     "output_type": "execute_result"
    }
   ],
   "source": [
    "listings.columns"
   ]
  },
  {
   "cell_type": "code",
   "execution_count": 125,
   "metadata": {
    "collapsed": false
   },
   "outputs": [],
   "source": [
    "listings['price'] = listings['price'].apply(lambda x: 0 if x <= 50 else 1 if 50<x<=100 else 2)"
   ]
  },
  {
   "cell_type": "code",
   "execution_count": 119,
   "metadata": {
    "collapsed": true
   },
   "outputs": [],
   "source": [
    "cat_cols = ['host_response_time','host_is_superhost','host_has_profile_pic','host_identity_verified','neighbourhood_group_cleansed',\n",
    "            'zipcode','property_type','room_type','bed_type','instant_bookable']\n",
    "text_cols = ['summary','name','space','description','neighborhood_overview','transit','access','interaction', 'house_rules',\n",
    "            'host_about','host_verifications', 'neighbourhood_cleansed','amenities']\n",
    "num_cols = ['host_response_rate','host_listings_count','host_total_listings_count','accommodates','bathrooms','bedrooms',\n",
    "           'beds','guests_included', 'minimum_nights','number_of_reviews', 'review_scores_rating', 'reviews_per_month']\n",
    "Y = ['price']"
   ]
  },
  {
   "cell_type": "code",
   "execution_count": 126,
   "metadata": {
    "collapsed": false
   },
   "outputs": [],
   "source": [
    "clean_data = listings[text_cols+cat_cols+num_cols+Y]"
   ]
  },
  {
   "cell_type": "code",
   "execution_count": 127,
   "metadata": {
    "collapsed": false
   },
   "outputs": [
    {
     "data": {
      "text/plain": [
       "(40227, 36)"
      ]
     },
     "execution_count": 127,
     "metadata": {},
     "output_type": "execute_result"
    }
   ],
   "source": [
    "clean_data.shape"
   ]
  },
  {
   "cell_type": "code",
   "execution_count": 128,
   "metadata": {
    "collapsed": false
   },
   "outputs": [],
   "source": [
    "# clean_data_na_cols = listings.columns[pd.isnull(listings).sum()/len(listings) > 0].tolist()\n",
    "missing_list = []\n",
    "for i in range(len(clean_data.columns)):\n",
    "    missing_perc = float(pd.isnull(clean_data[[i]]).sum()/len(clean_data[[i]]))\n",
    "    missing = [missing_perc, clean_data.columns[i]]\n",
    "    missing_list.append(missing)"
   ]
  },
  {
   "cell_type": "code",
   "execution_count": 129,
   "metadata": {
    "collapsed": false
   },
   "outputs": [
    {
     "data": {
      "text/plain": [
       "[[0.0, 'accommodates'],\n",
       " [0.0, 'amenities'],\n",
       " [0.0, 'bed_type'],\n",
       " [0.0, 'guests_included'],\n",
       " [0.0, 'host_verifications'],\n",
       " [0.0, 'instant_bookable'],\n",
       " [0.0, 'minimum_nights'],\n",
       " [0.0, 'name'],\n",
       " [0.0, 'neighbourhood_cleansed'],\n",
       " [0.0, 'neighbourhood_group_cleansed'],\n",
       " [0.0, 'number_of_reviews'],\n",
       " [0.0, 'price'],\n",
       " [0.0, 'property_type'],\n",
       " [0.0, 'room_type'],\n",
       " [0.0002485892559723569, 'description'],\n",
       " [0.0007706266935143063, 'host_has_profile_pic'],\n",
       " [0.0007706266935143063, 'host_identity_verified'],\n",
       " [0.0007706266935143063, 'host_is_superhost'],\n",
       " [0.0007706266935143063, 'host_listings_count'],\n",
       " [0.0007706266935143063, 'host_total_listings_count'],\n",
       " [0.0014169587590424342, 'bedrooms'],\n",
       " [0.0017152658662092624, 'beds'],\n",
       " [0.004623760161085838, 'bathrooms'],\n",
       " [0.014517612548785641, 'zipcode'],\n",
       " [0.03972456310438263, 'summary'],\n",
       " [0.22564446764610835, 'reviews_per_month'],\n",
       " [0.2437914833320904, 'review_scores_rating'],\n",
       " [0.2604469634822383, 'host_response_rate'],\n",
       " [0.2604469634822383, 'host_response_time'],\n",
       " [0.31133318417977973, 'space'],\n",
       " [0.3556317895940537, 'house_rules'],\n",
       " [0.36843413627663013, 'host_about'],\n",
       " [0.37897432072985804, 'transit'],\n",
       " [0.417779103587143, 'access'],\n",
       " [0.4249384741591468, 'neighborhood_overview'],\n",
       " [0.44129564720212794, 'interaction']]"
      ]
     },
     "execution_count": 129,
     "metadata": {},
     "output_type": "execute_result"
    }
   ],
   "source": [
    "sorted(missing_list)"
   ]
  },
  {
   "cell_type": "code",
   "execution_count": 124,
   "metadata": {
    "collapsed": true
   },
   "outputs": [],
   "source": [
    "# build my feature\n",
    "def extract_features(feature_df,cat_cols,text_cols,num_cols):\n",
    "    \n",
    "    # Encode text features\n",
    "    for text_col in text_cols:\n",
    "        tfidf_vec = TfidfVectorizer(stop_words=\"english\", max_df=80, min_df=5, ngram_range=[1,1])\n",
    "        lda = LatentDirichletAllocation()\n",
    "        tfidf_tokens = tfidf_vec.fit_transform(feature_df[text_col])\n",
    "        lda_res = lda.fit_transform(tfidf_tokens)\n",
    "        topics = text_col + 'topic'\n",
    "        feature_df[topics] = np.argmax(lda_res, axis=1)\n",
    "        feature_df = feature_df.drop([text_col], 1)\n",
    "    \n",
    "    # Encode categorical features\n",
    "    for cat_col in cat_cols:\n",
    "        all_unique_val = np.unique(feature_df[cat_col])\n",
    "        for val in all_unique_val:\n",
    "            feature_df[\"{0}={1}\".format(cat_col,val)] = feature_df.apply(lambda x: x[cat_col]==val,1)\n",
    "        feature_df = feature_df.drop(cat_col,1)\n",
    "\n",
    "    # Encode Label\n",
    "    label_encoder = LabelEncoder()\n",
    "    label_encoder.fit(feature_df['price'])\n",
    "    feature_df['Y'] = label_encoder.transform(feature_df['price'])\n",
    "    encoded_df = feature_df.drop(['price'],1)\n",
    "        \n",
    "    return encoded_df"
   ]
  },
  {
   "cell_type": "code",
   "execution_count": 16,
   "metadata": {
    "collapsed": false
   },
   "outputs": [
    {
     "name": "stderr",
     "output_type": "stream",
     "text": [
      "/Users/Sean/anaconda/lib/python3.6/site-packages/sklearn/decomposition/online_lda.py:508: DeprecationWarning: The default value for 'learning_method' will be changed from 'online' to 'batch' in the release 0.20. This warning was introduced in 0.18.\n",
      "  DeprecationWarning)\n",
      "/Users/Sean/anaconda/lib/python3.6/site-packages/ipykernel/__main__.py:11: SettingWithCopyWarning: \n",
      "A value is trying to be set on a copy of a slice from a DataFrame.\n",
      "Try using .loc[row_indexer,col_indexer] = value instead\n",
      "\n",
      "See the caveats in the documentation: http://pandas.pydata.org/pandas-docs/stable/indexing.html#indexing-view-versus-copy\n",
      "/Users/Sean/anaconda/lib/python3.6/site-packages/sklearn/decomposition/online_lda.py:508: DeprecationWarning: The default value for 'learning_method' will be changed from 'online' to 'batch' in the release 0.20. This warning was introduced in 0.18.\n",
      "  DeprecationWarning)\n",
      "/Users/Sean/anaconda/lib/python3.6/site-packages/sklearn/decomposition/online_lda.py:508: DeprecationWarning: The default value for 'learning_method' will be changed from 'online' to 'batch' in the release 0.20. This warning was introduced in 0.18.\n",
      "  DeprecationWarning)\n",
      "/Users/Sean/anaconda/lib/python3.6/site-packages/sklearn/decomposition/online_lda.py:508: DeprecationWarning: The default value for 'learning_method' will be changed from 'online' to 'batch' in the release 0.20. This warning was introduced in 0.18.\n",
      "  DeprecationWarning)\n",
      "/Users/Sean/anaconda/lib/python3.6/site-packages/sklearn/decomposition/online_lda.py:508: DeprecationWarning: The default value for 'learning_method' will be changed from 'online' to 'batch' in the release 0.20. This warning was introduced in 0.18.\n",
      "  DeprecationWarning)\n",
      "/Users/Sean/anaconda/lib/python3.6/site-packages/sklearn/decomposition/online_lda.py:508: DeprecationWarning: The default value for 'learning_method' will be changed from 'online' to 'batch' in the release 0.20. This warning was introduced in 0.18.\n",
      "  DeprecationWarning)\n",
      "/Users/Sean/anaconda/lib/python3.6/site-packages/sklearn/decomposition/online_lda.py:508: DeprecationWarning: The default value for 'learning_method' will be changed from 'online' to 'batch' in the release 0.20. This warning was introduced in 0.18.\n",
      "  DeprecationWarning)\n",
      "/Users/Sean/anaconda/lib/python3.6/site-packages/sklearn/decomposition/online_lda.py:508: DeprecationWarning: The default value for 'learning_method' will be changed from 'online' to 'batch' in the release 0.20. This warning was introduced in 0.18.\n",
      "  DeprecationWarning)\n",
      "/Users/Sean/anaconda/lib/python3.6/site-packages/sklearn/decomposition/online_lda.py:508: DeprecationWarning: The default value for 'learning_method' will be changed from 'online' to 'batch' in the release 0.20. This warning was introduced in 0.18.\n",
      "  DeprecationWarning)\n",
      "/Users/Sean/anaconda/lib/python3.6/site-packages/sklearn/decomposition/online_lda.py:508: DeprecationWarning: The default value for 'learning_method' will be changed from 'online' to 'batch' in the release 0.20. This warning was introduced in 0.18.\n",
      "  DeprecationWarning)\n",
      "/Users/Sean/anaconda/lib/python3.6/site-packages/sklearn/decomposition/online_lda.py:508: DeprecationWarning: The default value for 'learning_method' will be changed from 'online' to 'batch' in the release 0.20. This warning was introduced in 0.18.\n",
      "  DeprecationWarning)\n",
      "/Users/Sean/anaconda/lib/python3.6/site-packages/sklearn/decomposition/online_lda.py:508: DeprecationWarning: The default value for 'learning_method' will be changed from 'online' to 'batch' in the release 0.20. This warning was introduced in 0.18.\n",
      "  DeprecationWarning)\n",
      "/Users/Sean/anaconda/lib/python3.6/site-packages/sklearn/decomposition/online_lda.py:508: DeprecationWarning: The default value for 'learning_method' will be changed from 'online' to 'batch' in the release 0.20. This warning was introduced in 0.18.\n",
      "  DeprecationWarning)\n"
     ]
    }
   ],
   "source": [
    "encoded_data = extract_features(clean_data,cat_cols,text_cols,num_cols)"
   ]
  },
  {
   "cell_type": "code",
   "execution_count": 36,
   "metadata": {
    "collapsed": false
   },
   "outputs": [
    {
     "data": {
      "text/plain": [
       "(5458, 228)"
      ]
     },
     "execution_count": 36,
     "metadata": {},
     "output_type": "execute_result"
    }
   ],
   "source": [
    "encoded_data.shape"
   ]
  },
  {
   "cell_type": "code",
   "execution_count": 17,
   "metadata": {
    "collapsed": true
   },
   "outputs": [],
   "source": [
    "# divide the dataset to train dataset and test data set\n",
    "\n",
    "def prepare_train_test_set(dataset, label=\"Y\", test_ratio=0.3):\n",
    "\n",
    "    # parition the dataset randomly \n",
    "    drop_cols = [label]\n",
    "    x = dataset.drop(drop_cols, 1).as_matrix()        \n",
    "    y = dataset[label].as_matrix()\n",
    "    \n",
    "    x_train, x_test, y_train, y_test = train_test_split(x, y, test_size=test_ratio)\n",
    "    \n",
    "    return [x_train, x_test, y_train, y_test]"
   ]
  },
  {
   "cell_type": "code",
   "execution_count": 18,
   "metadata": {
    "collapsed": true
   },
   "outputs": [],
   "source": [
    "def quick_test_model(x_train, x_test, y_train, y_test, model, eval_metrics):\n",
    "\n",
    "    all_labels = np.unique(np.concatenate([y_train,y_test]))\n",
    "    model.fit(x_train, y_train)\n",
    "    pred_train = model.predict(x_train)\n",
    "    pred_test = model.predict(x_test)\n",
    "    train_loss = eval_metrics(y_train,pred_train)\n",
    "    test_loss = eval_metrics(y_test,pred_test)\n",
    "    \n",
    "    return [train_loss, test_loss]"
   ]
  },
  {
   "cell_type": "code",
   "execution_count": 19,
   "metadata": {
    "collapsed": true
   },
   "outputs": [],
   "source": [
    "x_train, x_test, y_train, y_test = prepare_train_test_set(encoded_data)"
   ]
  },
  {
   "cell_type": "code",
   "execution_count": 20,
   "metadata": {
    "collapsed": false
   },
   "outputs": [
    {
     "name": "stdout",
     "output_type": "stream",
     "text": [
      "{'max_depth': 50, 'max_features': 'sqrt', 'min_samples_leaf': 5, 'min_samples_split': 10, 'n_estimators': 50}\n"
     ]
    }
   ],
   "source": [
    "# using random forest model\n",
    "rf = RandomForestClassifier() \n",
    "\n",
    "# grid search for the best fit parameters \n",
    "param_grid = {\n",
    "    'min_samples_split': [10,50],\n",
    "    'n_estimators': [50, 100],\n",
    "    \n",
    "    'max_features': ['auto', 'sqrt', 'log2'],\n",
    "    'max_depth':[10,50],\n",
    "    'min_samples_leaf':[5,100]    \n",
    "}\n",
    "CV_rf = GridSearchCV(estimator=rf, param_grid=param_grid, cv= 5)\n",
    "CV_rf.fit(x_train, y_train)\n",
    "print (CV_rf.best_params_)"
   ]
  },
  {
   "cell_type": "code",
   "execution_count": 21,
   "metadata": {
    "collapsed": false,
    "scrolled": true
   },
   "outputs": [
    {
     "data": {
      "text/plain": [
       "RandomForestClassifier(bootstrap=True, class_weight=None, criterion='gini',\n",
       "            max_depth=50, max_features='auto', max_leaf_nodes=None,\n",
       "            min_impurity_split=1e-07, min_samples_leaf=5,\n",
       "            min_samples_split=10, min_weight_fraction_leaf=0.0,\n",
       "            n_estimators=50, n_jobs=1, oob_score=False, random_state=None,\n",
       "            verbose=0, warm_start=False)"
      ]
     },
     "execution_count": 21,
     "metadata": {},
     "output_type": "execute_result"
    }
   ],
   "source": [
    "# using the best fit parameters to train the model\n",
    "rf_tuned_para = RandomForestClassifier(max_features ='auto', min_samples_leaf =5, n_estimators =50, min_samples_split =10, \n",
    "                                max_depth =50)\n",
    "# Run Model\n",
    "rf_tuned_para.fit(x_train, y_train)"
   ]
  },
  {
   "cell_type": "code",
   "execution_count": 22,
   "metadata": {
    "collapsed": false
   },
   "outputs": [
    {
     "name": "stdout",
     "output_type": "stream",
     "text": [
      "[0.81753926701570678, 0.7649572649572649]\n"
     ]
    }
   ],
   "source": [
    "print(quick_test_model(x_train, x_test, y_train, y_test, rf_tuned_para, accuracy_score))"
   ]
  },
  {
   "cell_type": "code",
   "execution_count": null,
   "metadata": {
    "collapsed": true
   },
   "outputs": [],
   "source": [
    "# three class [0.81753926701570678, 0.7649572649572649]"
   ]
  }
 ],
 "metadata": {
  "kernelspec": {
   "display_name": "Python 3",
   "language": "python",
   "name": "python3"
  },
  "language_info": {
   "codemirror_mode": {
    "name": "ipython",
    "version": 3
   },
   "file_extension": ".py",
   "mimetype": "text/x-python",
   "name": "python",
   "nbconvert_exporter": "python",
   "pygments_lexer": "ipython3",
   "version": "3.6.0"
  }
 },
 "nbformat": 4,
 "nbformat_minor": 2
}
